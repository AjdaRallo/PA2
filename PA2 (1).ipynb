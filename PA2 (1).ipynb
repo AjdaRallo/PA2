{
 "cells": [
  {
   "cell_type": "markdown",
   "id": "d6218b25",
   "metadata": {},
   "source": [
    "* AJ Rallo\n",
    "* ASsignment 2\n",
    "* Version 2\n",
    "* Fall 2023"
   ]
  },
  {
   "cell_type": "markdown",
   "id": "fd9251a5",
   "metadata": {},
   "source": [
    "# Personal Information\n",
    "* Creat variables to store information about yourself"
   ]
  },
  {
   "cell_type": "code",
   "execution_count": 1,
   "id": "badcfaa2",
   "metadata": {},
   "outputs": [
    {
     "name": "stdout",
     "output_type": "stream",
     "text": [
      "The Name is AJ.My age is 18. I am 177.8 centimeters tall, and my favorite color is Blue\n"
     ]
    }
   ],
   "source": [
    "name= \"AJ\"\n",
    "age= \"18\"\n",
    "Height=  \"177.8\"\n",
    "Color= \"Blue\"\n",
    "print(f\"The Name is {name}.My age is {age}. I am {Height} centimeters tall, and my favorite color is {Color}\")"
   ]
  },
  {
   "cell_type": "markdown",
   "id": "b827dd0d",
   "metadata": {},
   "source": [
    "# Temperature Conversion"
   ]
  },
  {
   "cell_type": "code",
   "execution_count": 2,
   "id": "9efa28ab",
   "metadata": {},
   "outputs": [
    {
     "name": "stdout",
     "output_type": "stream",
     "text": [
      "The temperature is 15 degrees celsius, which is 59 degrees fahrenheit.\n"
     ]
    }
   ],
   "source": [
    "celsius_temp= 15\n",
    "Fahrenheit= 59\n",
    "print(f\"The temperature is {celsius_temp} degrees celsius, which is {Fahrenheit} degrees fahrenheit.\")"
   ]
  },
  {
   "cell_type": "markdown",
   "id": "864ee792",
   "metadata": {},
   "source": [
    "# Simple Calculator"
   ]
  },
  {
   "cell_type": "code",
   "execution_count": 3,
   "id": "c37ffb31",
   "metadata": {},
   "outputs": [
    {
     "name": "stdout",
     "output_type": "stream",
     "text": [
      "The addition of first and second number is 25\n",
      "The subtraction of first and second number is -5\n",
      "The multiplication of first and second number is 150\n",
      "The division of first and second number is 0.6666666666666666\n"
     ]
    }
   ],
   "source": [
    "num1= 10\n",
    "num2= 15\n",
    "print(f\"The addition of first and second number is {num1+num2}\")\n",
    "print(f\"The subtraction of first and second number is {num1-num2}\")\n",
    "print(f\"The multiplication of first and second number is {num1*num2}\")\n",
    "print(f\"The division of first and second number is {num1/num2}\")"
   ]
  },
  {
   "cell_type": "markdown",
   "id": "8778fdbc",
   "metadata": {},
   "source": [
    "# String Manipulation"
   ]
  },
  {
   "cell_type": "code",
   "execution_count": 4,
   "id": "50ae9a53",
   "metadata": {},
   "outputs": [
    {
     "name": "stdout",
     "output_type": "stream",
     "text": [
      "If you aint first your last\n",
      "IF YOU AINT FIRST YOUR LAST\n",
      "if you aint first your last\n"
     ]
    },
    {
     "data": {
      "text/plain": [
       "['If you aint first your last']"
      ]
     },
     "execution_count": 4,
     "metadata": {},
     "output_type": "execute_result"
    }
   ],
   "source": [
    "quote= \"If you aint first your last\"\n",
    "print(quote)\n",
    "print(quote.upper())\n",
    "print(quote.lower())\n",
    "quote.split(sep= \"  \")"
   ]
  },
  {
   "cell_type": "markdown",
   "id": "1553ba89",
   "metadata": {},
   "source": [
    "# User Input and Integer Operation"
   ]
  },
  {
   "cell_type": "code",
   "execution_count": 21,
   "id": "0558bc50",
   "metadata": {},
   "outputs": [
    {
     "name": "stdout",
     "output_type": "stream",
     "text": [
      "Enter your first number: 10\n",
      "Enter your second number: 10\n",
      "The addition of the two numbers is : 10+10\n",
      "The subtraction of the two numbers is : 10-10\n",
      "The mulitplication of the two numbers is : 10*10\n",
      "The division of the two numbers is : 10/10\n"
     ]
    }
   ],
   "source": [
    "first_number= int(input(\"Enter your first number: \"))\n",
    "second_number= int(input(\"Enter your second number: \"))\n",
    "print(f\"The addition of the two numbers is : {first_number}+{second_number}\")\n",
    "print(f\"The subtraction of the two numbers is : {first_number}-{second_number}\")\n",
    "print(f\"The mulitplication of the two numbers is : {first_number}*{second_number}\")\n",
    "print(f\"The division of the two numbers is : {first_number}/{second_number}\")"
   ]
  },
  {
   "cell_type": "code",
   "execution_count": null,
   "id": "56e8b23a",
   "metadata": {},
   "outputs": [],
   "source": []
  },
  {
   "cell_type": "code",
   "execution_count": null,
   "id": "2e82bac4",
   "metadata": {},
   "outputs": [],
   "source": []
  }
 ],
 "metadata": {
  "kernelspec": {
   "display_name": "Python 3 (ipykernel)",
   "language": "python",
   "name": "python3"
  },
  "language_info": {
   "codemirror_mode": {
    "name": "ipython",
    "version": 3
   },
   "file_extension": ".py",
   "mimetype": "text/x-python",
   "name": "python",
   "nbconvert_exporter": "python",
   "pygments_lexer": "ipython3",
   "version": "3.11.4"
  }
 },
 "nbformat": 4,
 "nbformat_minor": 5
}
